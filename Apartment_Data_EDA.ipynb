{
 "cells": [
  {
   "cell_type": "code",
   "execution_count": 1,
   "id": "882196f2",
   "metadata": {},
   "outputs": [],
   "source": [
    "import pandas as pd\n",
    "import numpy as np\n",
    "import matplotlib.pyplot as plt\n",
    "import seaborn as sns"
   ]
  },
  {
   "cell_type": "code",
   "execution_count": 2,
   "id": "19391217",
   "metadata": {},
   "outputs": [],
   "source": [
    "df = pd.read_csv('dataset/apartment_cost_list.csv')"
   ]
  },
  {
   "cell_type": "code",
   "execution_count": 3,
   "id": "40f1b3ef",
   "metadata": {},
   "outputs": [
    {
     "data": {
      "text/html": [
       "<div>\n",
       "<style scoped>\n",
       "    .dataframe tbody tr th:only-of-type {\n",
       "        vertical-align: middle;\n",
       "    }\n",
       "\n",
       "    .dataframe tbody tr th {\n",
       "        vertical-align: top;\n",
       "    }\n",
       "\n",
       "    .dataframe thead th {\n",
       "        text-align: right;\n",
       "    }\n",
       "</style>\n",
       "<table border=\"1\" class=\"dataframe\">\n",
       "  <thead>\n",
       "    <tr style=\"text-align: right;\">\n",
       "      <th></th>\n",
       "      <th>Job #</th>\n",
       "      <th>Borough</th>\n",
       "      <th>House #</th>\n",
       "      <th>Street Name</th>\n",
       "      <th>Block</th>\n",
       "      <th>Lot</th>\n",
       "      <th>Bin #</th>\n",
       "      <th>Job Type</th>\n",
       "      <th>Community - Board</th>\n",
       "      <th>Curb Cut</th>\n",
       "      <th>Fully Permitted</th>\n",
       "      <th>Initial Cost</th>\n",
       "      <th>Proposed Zoning Sqft</th>\n",
       "      <th>Horizontal Enlrgmt</th>\n",
       "      <th>Vertical Enlrgmt</th>\n",
       "      <th>Enlargement SQ Footage</th>\n",
       "      <th>Zoning Dist1</th>\n",
       "      <th>Job Description</th>\n",
       "    </tr>\n",
       "  </thead>\n",
       "  <tbody>\n",
       "    <tr>\n",
       "      <th>0</th>\n",
       "      <td>123768976</td>\n",
       "      <td>MANHATTAN</td>\n",
       "      <td>1598</td>\n",
       "      <td>2ND AVENUE</td>\n",
       "      <td>1545</td>\n",
       "      <td>49</td>\n",
       "      <td>1049907</td>\n",
       "      <td>A2</td>\n",
       "      <td>108</td>\n",
       "      <td>NaN</td>\n",
       "      <td>NaN</td>\n",
       "      <td>$65000.00</td>\n",
       "      <td>0</td>\n",
       "      <td>NaN</td>\n",
       "      <td>NaN</td>\n",
       "      <td>0</td>\n",
       "      <td>C1-9</td>\n",
       "      <td>INTERIOR RENOVATION TO COMBINE APARTMENT 2E AN...</td>\n",
       "    </tr>\n",
       "    <tr>\n",
       "      <th>1</th>\n",
       "      <td>140922893</td>\n",
       "      <td>MANHATTAN</td>\n",
       "      <td>160</td>\n",
       "      <td>E 89 ST</td>\n",
       "      <td>1517</td>\n",
       "      <td>43</td>\n",
       "      <td>1048094</td>\n",
       "      <td>A2</td>\n",
       "      <td>108</td>\n",
       "      <td>NaN</td>\n",
       "      <td>07/14/2020</td>\n",
       "      <td>$85000.00</td>\n",
       "      <td>0</td>\n",
       "      <td>NaN</td>\n",
       "      <td>NaN</td>\n",
       "      <td>0</td>\n",
       "      <td>R8B</td>\n",
       "      <td>HEREBY FILING APPLICATION FOR THE INTERIOR REN...</td>\n",
       "    </tr>\n",
       "    <tr>\n",
       "      <th>2</th>\n",
       "      <td>301773579</td>\n",
       "      <td>BROOKLYN</td>\n",
       "      <td>65</td>\n",
       "      <td>GATES AVENUE</td>\n",
       "      <td>1962</td>\n",
       "      <td>86</td>\n",
       "      <td>3056039</td>\n",
       "      <td>A1</td>\n",
       "      <td>302</td>\n",
       "      <td>NaN</td>\n",
       "      <td>05/23/2007</td>\n",
       "      <td>$60000.00</td>\n",
       "      <td>0</td>\n",
       "      <td>NaN</td>\n",
       "      <td>NaN</td>\n",
       "      <td>0</td>\n",
       "      <td>R6</td>\n",
       "      <td>Change existing four story and basement brick ...</td>\n",
       "    </tr>\n",
       "    <tr>\n",
       "      <th>3</th>\n",
       "      <td>301976057</td>\n",
       "      <td>BROOKLYN</td>\n",
       "      <td>1401</td>\n",
       "      <td>OCEAN AVENUE</td>\n",
       "      <td>7584</td>\n",
       "      <td>35</td>\n",
       "      <td>3206621</td>\n",
       "      <td>A2</td>\n",
       "      <td>314</td>\n",
       "      <td>NaN</td>\n",
       "      <td>02/28/2006</td>\n",
       "      <td>$75000.00</td>\n",
       "      <td>0</td>\n",
       "      <td>NaN</td>\n",
       "      <td>NaN</td>\n",
       "      <td>0</td>\n",
       "      <td>NaN</td>\n",
       "      <td>COMBINING OF APARTMENT 4A &amp;amp; 4L.NO CHANGEIN...</td>\n",
       "    </tr>\n",
       "    <tr>\n",
       "      <th>4</th>\n",
       "      <td>301989276</td>\n",
       "      <td>BROOKLYN</td>\n",
       "      <td>154</td>\n",
       "      <td>NOBLE STREET</td>\n",
       "      <td>2573</td>\n",
       "      <td>10</td>\n",
       "      <td>3065099</td>\n",
       "      <td>A1</td>\n",
       "      <td>301</td>\n",
       "      <td>NaN</td>\n",
       "      <td>09/29/2006</td>\n",
       "      <td>$40000.00</td>\n",
       "      <td>0</td>\n",
       "      <td>NaN</td>\n",
       "      <td>NaN</td>\n",
       "      <td>0</td>\n",
       "      <td>C4-3</td>\n",
       "      <td>New C of O for existing building. New duplex a...</td>\n",
       "    </tr>\n",
       "  </tbody>\n",
       "</table>\n",
       "</div>"
      ],
      "text/plain": [
       "       Job #    Borough House #   Street Name  Block  Lot    Bin # Job Type  \\\n",
       "0  123768976  MANHATTAN    1598    2ND AVENUE   1545   49  1049907       A2   \n",
       "1  140922893  MANHATTAN     160       E 89 ST   1517   43  1048094       A2   \n",
       "2  301773579   BROOKLYN      65  GATES AVENUE   1962   86  3056039       A1   \n",
       "3  301976057   BROOKLYN    1401  OCEAN AVENUE   7584   35  3206621       A2   \n",
       "4  301989276   BROOKLYN     154  NOBLE STREET   2573   10  3065099       A1   \n",
       "\n",
       "   Community - Board Curb Cut Fully Permitted Initial Cost  \\\n",
       "0                108      NaN             NaN    $65000.00   \n",
       "1                108      NaN      07/14/2020    $85000.00   \n",
       "2                302      NaN      05/23/2007    $60000.00   \n",
       "3                314      NaN      02/28/2006    $75000.00   \n",
       "4                301      NaN      09/29/2006    $40000.00   \n",
       "\n",
       "   Proposed Zoning Sqft Horizontal Enlrgmt Vertical Enlrgmt  \\\n",
       "0                     0                NaN              NaN   \n",
       "1                     0                NaN              NaN   \n",
       "2                     0                NaN              NaN   \n",
       "3                     0                NaN              NaN   \n",
       "4                     0                NaN              NaN   \n",
       "\n",
       "   Enlargement SQ Footage Zoning Dist1  \\\n",
       "0                       0         C1-9   \n",
       "1                       0          R8B   \n",
       "2                       0           R6   \n",
       "3                       0          NaN   \n",
       "4                       0         C4-3   \n",
       "\n",
       "                                     Job Description  \n",
       "0  INTERIOR RENOVATION TO COMBINE APARTMENT 2E AN...  \n",
       "1  HEREBY FILING APPLICATION FOR THE INTERIOR REN...  \n",
       "2  Change existing four story and basement brick ...  \n",
       "3  COMBINING OF APARTMENT 4A &amp; 4L.NO CHANGEIN...  \n",
       "4  New C of O for existing building. New duplex a...  "
      ]
     },
     "execution_count": 3,
     "metadata": {},
     "output_type": "execute_result"
    }
   ],
   "source": [
    "df.head()"
   ]
  },
  {
   "cell_type": "code",
   "execution_count": 4,
   "id": "9c9bb439",
   "metadata": {},
   "outputs": [
    {
     "data": {
      "text/plain": [
       "(19613, 18)"
      ]
     },
     "execution_count": 4,
     "metadata": {},
     "output_type": "execute_result"
    }
   ],
   "source": [
    "df.shape"
   ]
  },
  {
   "cell_type": "code",
   "execution_count": 5,
   "id": "15e9dbdd",
   "metadata": {},
   "outputs": [
    {
     "data": {
      "text/plain": [
       "Index(['Job #', 'Borough', 'House #', 'Street Name', 'Block', 'Lot', 'Bin #',\n",
       "       'Job Type', 'Community - Board', 'Curb Cut', 'Fully Permitted',\n",
       "       'Initial Cost', 'Proposed Zoning Sqft', 'Horizontal Enlrgmt',\n",
       "       'Vertical Enlrgmt', 'Enlargement SQ Footage', 'Zoning Dist1',\n",
       "       'Job Description'],\n",
       "      dtype='object')"
      ]
     },
     "execution_count": 5,
     "metadata": {},
     "output_type": "execute_result"
    }
   ],
   "source": [
    "df.columns"
   ]
  },
  {
   "cell_type": "code",
   "execution_count": 6,
   "id": "fff06a3f",
   "metadata": {},
   "outputs": [
    {
     "data": {
      "text/plain": [
       "Job #                         0\n",
       "Borough                       0\n",
       "House #                       0\n",
       "Street Name                   0\n",
       "Block                         0\n",
       "Lot                           0\n",
       "Bin #                         0\n",
       "Job Type                      0\n",
       "Community - Board             0\n",
       "Curb Cut                  19597\n",
       "Fully Permitted            3988\n",
       "Initial Cost                  0\n",
       "Proposed Zoning Sqft          0\n",
       "Horizontal Enlrgmt        19450\n",
       "Vertical Enlrgmt          19371\n",
       "Enlargement SQ Footage        0\n",
       "Zoning Dist1               2096\n",
       "Job Description               0\n",
       "dtype: int64"
      ]
     },
     "execution_count": 6,
     "metadata": {},
     "output_type": "execute_result"
    }
   ],
   "source": [
    "null_counts = df.isnull().sum()\n",
    "null_counts"
   ]
  },
  {
   "cell_type": "code",
   "execution_count": 7,
   "id": "35795230",
   "metadata": {},
   "outputs": [
    {
     "data": {
      "text/plain": [
       "Job #                      0.000000\n",
       "Borough                    0.000000\n",
       "House #                    0.000000\n",
       "Street Name                0.000000\n",
       "Block                      0.000000\n",
       "Lot                        0.000000\n",
       "Bin #                      0.000000\n",
       "Job Type                   0.000000\n",
       "Community - Board          0.000000\n",
       "Curb Cut                  99.918421\n",
       "Fully Permitted           20.333452\n",
       "Initial Cost               0.000000\n",
       "Proposed Zoning Sqft       0.000000\n",
       "Horizontal Enlrgmt        99.168919\n",
       "Vertical Enlrgmt          98.766125\n",
       "Enlargement SQ Footage     0.000000\n",
       "Zoning Dist1              10.686789\n",
       "Job Description            0.000000\n",
       "dtype: float64"
      ]
     },
     "execution_count": 7,
     "metadata": {},
     "output_type": "execute_result"
    }
   ],
   "source": [
    "# null_count percentage\n",
    "(null_counts/len(df))*100"
   ]
  },
  {
   "cell_type": "code",
   "execution_count": 8,
   "id": "133d2a3d",
   "metadata": {},
   "outputs": [
    {
     "data": {
      "text/plain": [
       "6104"
      ]
     },
     "execution_count": 8,
     "metadata": {},
     "output_type": "execute_result"
    }
   ],
   "source": [
    "df.duplicated().sum()"
   ]
  },
  {
   "cell_type": "code",
   "execution_count": 9,
   "id": "030f42f5",
   "metadata": {},
   "outputs": [],
   "source": [
    "df = df.drop_duplicates()"
   ]
  },
  {
   "cell_type": "code",
   "execution_count": 10,
   "id": "d7c50524",
   "metadata": {},
   "outputs": [],
   "source": [
    "df.drop(columns=['Curb Cut'], inplace=True)\n",
    "df.drop(columns=['Job Description'], inplace=True)"
   ]
  },
  {
   "cell_type": "code",
   "execution_count": 11,
   "id": "114516c2",
   "metadata": {},
   "outputs": [
    {
     "data": {
      "text/plain": [
       "Index(['Job #', 'Borough', 'House #', 'Street Name', 'Block', 'Lot', 'Bin #',\n",
       "       'Job Type', 'Community - Board', 'Fully Permitted', 'Initial Cost',\n",
       "       'Proposed Zoning Sqft', 'Horizontal Enlrgmt', 'Vertical Enlrgmt',\n",
       "       'Enlargement SQ Footage', 'Zoning Dist1'],\n",
       "      dtype='object')"
      ]
     },
     "execution_count": 11,
     "metadata": {},
     "output_type": "execute_result"
    }
   ],
   "source": [
    "df.columns"
   ]
  },
  {
   "cell_type": "code",
   "execution_count": 12,
   "id": "3a9ce2ac",
   "metadata": {},
   "outputs": [
    {
     "name": "stdout",
     "output_type": "stream",
     "text": [
      "No of unique features in the columns:\n",
      "Job # 13403\n",
      "Borough 5\n",
      "House # 1959\n",
      "Street Name 2580\n",
      "Block 2493\n",
      "Lot 265\n",
      "Bin # 6819\n",
      "Job Type 3\n",
      "Community - Board 59\n",
      "Fully Permitted 4392\n",
      "Initial Cost 46\n",
      "Proposed Zoning Sqft 331\n",
      "Horizontal Enlrgmt 1\n",
      "Vertical Enlrgmt 2\n",
      "Enlargement SQ Footage 229\n",
      "Zoning Dist1 145\n"
     ]
    }
   ],
   "source": [
    "print(\"No of unique features in the columns:\")\n",
    "for columns in df.columns:\n",
    "    print(columns,df[columns].nunique())"
   ]
  },
  {
   "cell_type": "code",
   "execution_count": 13,
   "id": "20d4aa98",
   "metadata": {},
   "outputs": [
    {
     "data": {
      "text/plain": [
       "array(['MANHATTAN', 'BROOKLYN', 'BRONX', 'QUEENS', 'STATEN ISLAND'],\n",
       "      dtype=object)"
      ]
     },
     "execution_count": 13,
     "metadata": {},
     "output_type": "execute_result"
    }
   ],
   "source": [
    "df['Borough'].unique()"
   ]
  },
  {
   "cell_type": "code",
   "execution_count": 14,
   "id": "e1c15af3",
   "metadata": {},
   "outputs": [
    {
     "data": {
      "text/plain": [
       "MANHATTAN        10697\n",
       "BROOKLYN          1870\n",
       "QUEENS             561\n",
       "BRONX              357\n",
       "STATEN ISLAND       24\n",
       "Name: Borough, dtype: int64"
      ]
     },
     "execution_count": 14,
     "metadata": {},
     "output_type": "execute_result"
    }
   ],
   "source": [
    "df['Borough'].value_counts()"
   ]
  },
  {
   "cell_type": "code",
   "execution_count": 15,
   "id": "e03bfc35",
   "metadata": {},
   "outputs": [
    {
     "data": {
      "text/plain": [
       "array(['A2', 'A1', 'A3'], dtype=object)"
      ]
     },
     "execution_count": 15,
     "metadata": {},
     "output_type": "execute_result"
    }
   ],
   "source": [
    "df['Job Type'].unique()"
   ]
  },
  {
   "cell_type": "code",
   "execution_count": 16,
   "id": "79bc1478",
   "metadata": {},
   "outputs": [
    {
     "data": {
      "text/plain": [
       "A2    12528\n",
       "A1      940\n",
       "A3       41\n",
       "Name: Job Type, dtype: int64"
      ]
     },
     "execution_count": 16,
     "metadata": {},
     "output_type": "execute_result"
    }
   ],
   "source": [
    "df['Job Type'].value_counts()"
   ]
  },
  {
   "cell_type": "code",
   "execution_count": 17,
   "id": "9a657a13",
   "metadata": {
    "scrolled": true
   },
   "outputs": [
    {
     "data": {
      "text/plain": [
       "2580"
      ]
     },
     "execution_count": 17,
     "metadata": {},
     "output_type": "execute_result"
    }
   ],
   "source": [
    "df['Street Name'].nunique()"
   ]
  },
  {
   "cell_type": "code",
   "execution_count": null,
   "id": "ff4db16d",
   "metadata": {},
   "outputs": [],
   "source": []
  },
  {
   "cell_type": "code",
   "execution_count": 18,
   "id": "da7c6a61",
   "metadata": {},
   "outputs": [
    {
     "data": {
      "text/plain": [
       "array([nan, 'Y'], dtype=object)"
      ]
     },
     "execution_count": 18,
     "metadata": {},
     "output_type": "execute_result"
    }
   ],
   "source": [
    "df['Horizontal Enlrgmt'].unique()"
   ]
  },
  {
   "cell_type": "code",
   "execution_count": 19,
   "id": "9d364187",
   "metadata": {},
   "outputs": [
    {
     "data": {
      "text/plain": [
       "Y    106\n",
       "Name: Horizontal Enlrgmt, dtype: int64"
      ]
     },
     "execution_count": 19,
     "metadata": {},
     "output_type": "execute_result"
    }
   ],
   "source": [
    "df['Horizontal Enlrgmt'].value_counts()"
   ]
  },
  {
   "cell_type": "code",
   "execution_count": 20,
   "id": "aae8e152",
   "metadata": {},
   "outputs": [
    {
     "data": {
      "text/plain": [
       "array([nan, 'Y', 'N'], dtype=object)"
      ]
     },
     "execution_count": 20,
     "metadata": {},
     "output_type": "execute_result"
    }
   ],
   "source": [
    "df['Vertical Enlrgmt'].unique()"
   ]
  },
  {
   "cell_type": "code",
   "execution_count": 21,
   "id": "65d03d8f",
   "metadata": {},
   "outputs": [
    {
     "data": {
      "text/plain": [
       "Y    174\n",
       "N      1\n",
       "Name: Vertical Enlrgmt, dtype: int64"
      ]
     },
     "execution_count": 21,
     "metadata": {},
     "output_type": "execute_result"
    }
   ],
   "source": [
    "df['Vertical Enlrgmt'].value_counts()"
   ]
  },
  {
   "cell_type": "code",
   "execution_count": 22,
   "id": "d6160c1e",
   "metadata": {},
   "outputs": [
    {
     "data": {
      "text/plain": [
       "0         13149\n",
       "1             5\n",
       "142261        3\n",
       "4000          3\n",
       "26361         3\n",
       "          ...  \n",
       "2968          1\n",
       "32000         1\n",
       "70000         1\n",
       "20217         1\n",
       "15261         1\n",
       "Name: Proposed Zoning Sqft, Length: 331, dtype: int64"
      ]
     },
     "execution_count": 22,
     "metadata": {},
     "output_type": "execute_result"
    }
   ],
   "source": [
    "df['Proposed Zoning Sqft'].value_counts()"
   ]
  },
  {
   "cell_type": "code",
   "execution_count": 23,
   "id": "30ada8b2",
   "metadata": {},
   "outputs": [
    {
     "data": {
      "text/plain": [
       "array(['C1-9', 'R8B', 'R6', nan, 'C4-3', 'R6B', 'R5', 'R8', 'R9A', 'C1-5',\n",
       "       'R10', 'R10A', 'C2-3', 'C5-1', 'R8A', 'R10-', 'M1-6', 'C4-5',\n",
       "       'C1-8X', 'C2-5', 'R7-2', 'R6A', 'M1-1', 'R7A', 'R7-1', 'R7B',\n",
       "       'C1-6', 'C1-1', 'C6-4', 'R4', 'C1-3', 'C5-5', 'M1-2', 'C1-2',\n",
       "       'C1-9A', 'R5B', 'C2-6', 'R8X', 'R3-2', 'C2-2', 'C6-2A', 'C2-8',\n",
       "       'C5-3', 'C6-2', 'C1-4', 'C6-2G', 'R4-1', 'C1-6A', 'C6-1', 'M1-4',\n",
       "       'C6-2M', 'M1-5M', 'M1-2/R6B', 'C4-4A', 'M1-5B', 'R10H', 'C4-6A',\n",
       "       'C5-2', 'M1-5', 'R4A', 'R3-1', 'C2-4', 'C4-2', 'M3-1', 'C2-8A',\n",
       "       'C4-2A', 'M1-2/R6A', 'R9', 'R3A', 'C1-7A', 'C4-3A', 'C6-6',\n",
       "       'C6-4M', 'C5-2.5', 'C6-3A', 'C5-2A', 'C7', 'R5D', 'C6-4A', 'C8-1',\n",
       "       'C2-7A', 'M1-5A', 'M1-3D', 'C6-3', 'C1-8A', 'C5-P', 'R1-2', 'R7X',\n",
       "       'R3X', 'C8-4', 'C1-8', 'C4-7', 'R9X', 'C6-6.5', 'C6-4X', 'C3A',\n",
       "       'C1-7', 'C5-1A', 'C6-3X', 'M2-1', 'BPC', 'C4-4', 'C6-1G', 'C6-9',\n",
       "       'C6-5', 'C6-7T', 'C8-2', 'C4-4D', 'C4-6', 'M1-2/R5D', 'M1-4/R6B',\n",
       "       'M1-4/R7A', 'M1-6D', 'C6-4.5', 'M1-4D', 'C2-6A', 'R4B', 'M1-2/R8A',\n",
       "       'M1-2D', 'M1-6M', 'LH-1', 'C8-3', 'R2', 'M1-2/R6', 'C4-4L', 'C2-7',\n",
       "       'M1-5/R7X', 'C6-8', 'C4-5X', 'C4-5A', 'M1-5/R8A', 'R1-1', 'C2-1',\n",
       "       'R7D', 'R5A', 'M1-5/R7-3', 'R10-H', 'C4-7A', 'C5-4', 'R2A',\n",
       "       'C5-5CR', 'C6-1A', 'C6-7', 'C6-2A TMU', 'C4-1', 'M1-5D'],\n",
       "      dtype=object)"
      ]
     },
     "execution_count": 23,
     "metadata": {},
     "output_type": "execute_result"
    }
   ],
   "source": [
    "df['Zoning Dist1'].unique()"
   ]
  },
  {
   "cell_type": "code",
   "execution_count": 24,
   "id": "5d3e5f44",
   "metadata": {},
   "outputs": [],
   "source": [
    "# Calculate mode for 'Fully Permitted' and 'Proposed Zoning Sqft'\n",
    "fully_permitted_mode = df['Fully Permitted'].mode()[0]\n",
    "zoning_dist1_mode = df['Zoning Dist1'].mode()[0]\n",
    "\n",
    "# Fill NaN values with mode\n",
    "df['Fully Permitted'].fillna(fully_permitted_mode, inplace=True)\n",
    "df['Zoning Dist1'].fillna(zoning_dist1_mode, inplace=True)"
   ]
  },
  {
   "cell_type": "code",
   "execution_count": 25,
   "id": "96c788bc",
   "metadata": {},
   "outputs": [
    {
     "data": {
      "text/plain": [
       "Job #                         0\n",
       "Borough                       0\n",
       "House #                       0\n",
       "Street Name                   0\n",
       "Block                         0\n",
       "Lot                           0\n",
       "Bin #                         0\n",
       "Job Type                      0\n",
       "Community - Board             0\n",
       "Fully Permitted               0\n",
       "Initial Cost                  0\n",
       "Proposed Zoning Sqft          0\n",
       "Horizontal Enlrgmt        13403\n",
       "Vertical Enlrgmt          13334\n",
       "Enlargement SQ Footage        0\n",
       "Zoning Dist1                  0\n",
       "dtype: int64"
      ]
     },
     "execution_count": 25,
     "metadata": {},
     "output_type": "execute_result"
    }
   ],
   "source": [
    "df.isnull().sum()"
   ]
  },
  {
   "cell_type": "code",
   "execution_count": 26,
   "id": "8b5b32bc",
   "metadata": {},
   "outputs": [
    {
     "name": "stderr",
     "output_type": "stream",
     "text": [
      "C:\\Users\\dmish\\AppData\\Local\\Temp\\ipykernel_25604\\868109210.py:1: FutureWarning: The default value of numeric_only in DataFrame.corr is deprecated. In a future version, it will default to False. Select only valid columns or specify the value of numeric_only to silence this warning.\n",
      "  correlation_matrix = df.corr()\n"
     ]
    },
    {
     "data": {
      "text/html": [
       "<div>\n",
       "<style scoped>\n",
       "    .dataframe tbody tr th:only-of-type {\n",
       "        vertical-align: middle;\n",
       "    }\n",
       "\n",
       "    .dataframe tbody tr th {\n",
       "        vertical-align: top;\n",
       "    }\n",
       "\n",
       "    .dataframe thead th {\n",
       "        text-align: right;\n",
       "    }\n",
       "</style>\n",
       "<table border=\"1\" class=\"dataframe\">\n",
       "  <thead>\n",
       "    <tr style=\"text-align: right;\">\n",
       "      <th></th>\n",
       "      <th>Job #</th>\n",
       "      <th>Block</th>\n",
       "      <th>Lot</th>\n",
       "      <th>Bin #</th>\n",
       "      <th>Community - Board</th>\n",
       "      <th>Proposed Zoning Sqft</th>\n",
       "      <th>Enlargement SQ Footage</th>\n",
       "    </tr>\n",
       "  </thead>\n",
       "  <tbody>\n",
       "    <tr>\n",
       "      <th>Job #</th>\n",
       "      <td>1.000000</td>\n",
       "      <td>0.476994</td>\n",
       "      <td>-0.153952</td>\n",
       "      <td>0.989307</td>\n",
       "      <td>0.990528</td>\n",
       "      <td>0.075480</td>\n",
       "      <td>0.045041</td>\n",
       "    </tr>\n",
       "    <tr>\n",
       "      <th>Block</th>\n",
       "      <td>0.476994</td>\n",
       "      <td>1.000000</td>\n",
       "      <td>-0.127521</td>\n",
       "      <td>0.509134</td>\n",
       "      <td>0.501855</td>\n",
       "      <td>0.042292</td>\n",
       "      <td>0.042052</td>\n",
       "    </tr>\n",
       "    <tr>\n",
       "      <th>Lot</th>\n",
       "      <td>-0.153952</td>\n",
       "      <td>-0.127521</td>\n",
       "      <td>1.000000</td>\n",
       "      <td>-0.147756</td>\n",
       "      <td>-0.158962</td>\n",
       "      <td>-0.011735</td>\n",
       "      <td>-0.020556</td>\n",
       "    </tr>\n",
       "    <tr>\n",
       "      <th>Bin #</th>\n",
       "      <td>0.989307</td>\n",
       "      <td>0.509134</td>\n",
       "      <td>-0.147756</td>\n",
       "      <td>1.000000</td>\n",
       "      <td>0.997876</td>\n",
       "      <td>0.074599</td>\n",
       "      <td>0.053393</td>\n",
       "    </tr>\n",
       "    <tr>\n",
       "      <th>Community - Board</th>\n",
       "      <td>0.990528</td>\n",
       "      <td>0.501855</td>\n",
       "      <td>-0.158962</td>\n",
       "      <td>0.997876</td>\n",
       "      <td>1.000000</td>\n",
       "      <td>0.074547</td>\n",
       "      <td>0.053480</td>\n",
       "    </tr>\n",
       "    <tr>\n",
       "      <th>Proposed Zoning Sqft</th>\n",
       "      <td>0.075480</td>\n",
       "      <td>0.042292</td>\n",
       "      <td>-0.011735</td>\n",
       "      <td>0.074599</td>\n",
       "      <td>0.074547</td>\n",
       "      <td>1.000000</td>\n",
       "      <td>0.008344</td>\n",
       "    </tr>\n",
       "    <tr>\n",
       "      <th>Enlargement SQ Footage</th>\n",
       "      <td>0.045041</td>\n",
       "      <td>0.042052</td>\n",
       "      <td>-0.020556</td>\n",
       "      <td>0.053393</td>\n",
       "      <td>0.053480</td>\n",
       "      <td>0.008344</td>\n",
       "      <td>1.000000</td>\n",
       "    </tr>\n",
       "  </tbody>\n",
       "</table>\n",
       "</div>"
      ],
      "text/plain": [
       "                           Job #     Block       Lot     Bin #  \\\n",
       "Job #                   1.000000  0.476994 -0.153952  0.989307   \n",
       "Block                   0.476994  1.000000 -0.127521  0.509134   \n",
       "Lot                    -0.153952 -0.127521  1.000000 -0.147756   \n",
       "Bin #                   0.989307  0.509134 -0.147756  1.000000   \n",
       "Community - Board       0.990528  0.501855 -0.158962  0.997876   \n",
       "Proposed Zoning Sqft    0.075480  0.042292 -0.011735  0.074599   \n",
       "Enlargement SQ Footage  0.045041  0.042052 -0.020556  0.053393   \n",
       "\n",
       "                        Community - Board  Proposed Zoning Sqft  \\\n",
       "Job #                            0.990528              0.075480   \n",
       "Block                            0.501855              0.042292   \n",
       "Lot                             -0.158962             -0.011735   \n",
       "Bin #                            0.997876              0.074599   \n",
       "Community - Board                1.000000              0.074547   \n",
       "Proposed Zoning Sqft             0.074547              1.000000   \n",
       "Enlargement SQ Footage           0.053480              0.008344   \n",
       "\n",
       "                        Enlargement SQ Footage  \n",
       "Job #                                 0.045041  \n",
       "Block                                 0.042052  \n",
       "Lot                                  -0.020556  \n",
       "Bin #                                 0.053393  \n",
       "Community - Board                     0.053480  \n",
       "Proposed Zoning Sqft                  0.008344  \n",
       "Enlargement SQ Footage                1.000000  "
      ]
     },
     "execution_count": 26,
     "metadata": {},
     "output_type": "execute_result"
    }
   ],
   "source": [
    "correlation_matrix = df.corr()\n",
    "correlation_matrix"
   ]
  },
  {
   "cell_type": "code",
   "execution_count": 27,
   "id": "2314dc13",
   "metadata": {},
   "outputs": [
    {
     "data": {
      "image/png": "[encoded data removed]",
      "text/plain": [
       "<Figure size 1200x800 with 2 Axes>"
      ]
     },
     "metadata": {},
     "output_type": "display_data"
    }
   ],
   "source": [
    "# Create a heatmap using seaborn\n",
    "plt.figure(figsize=(12, 8))\n",
    "sns.heatmap(correlation_matrix, annot=True, cmap='coolwarm', fmt=\".2f\", linewidths=.5)\n",
    "plt.title('Correlation Matrix Heatmap')\n",
    "plt.show()"
   ]
  },
  {
   "cell_type": "code",
   "execution_count": 28,
   "id": "4c790d37",
   "metadata": {},
   "outputs": [
    {
     "data": {
      "text/html": [
       "<div>\n",
       "<style scoped>\n",
       "    .dataframe tbody tr th:only-of-type {\n",
       "        vertical-align: middle;\n",
       "    }\n",
       "\n",
       "    .dataframe tbody tr th {\n",
       "        vertical-align: top;\n",
       "    }\n",
       "\n",
       "    .dataframe thead th {\n",
       "        text-align: right;\n",
       "    }\n",
       "</style>\n",
       "<table border=\"1\" class=\"dataframe\">\n",
       "  <thead>\n",
       "    <tr style=\"text-align: right;\">\n",
       "      <th></th>\n",
       "      <th>Job #</th>\n",
       "      <th>Borough</th>\n",
       "      <th>House #</th>\n",
       "      <th>Street Name</th>\n",
       "      <th>Block</th>\n",
       "      <th>Lot</th>\n",
       "      <th>Job Type</th>\n",
       "      <th>Fully Permitted</th>\n",
       "      <th>Initial Cost</th>\n",
       "      <th>Proposed Zoning Sqft</th>\n",
       "      <th>Horizontal Enlrgmt</th>\n",
       "      <th>Vertical Enlrgmt</th>\n",
       "      <th>Enlargement SQ Footage</th>\n",
       "      <th>Zoning Dist1</th>\n",
       "    </tr>\n",
       "  </thead>\n",
       "  <tbody>\n",
       "    <tr>\n",
       "      <th>0</th>\n",
       "      <td>123768976</td>\n",
       "      <td>MANHATTAN</td>\n",
       "      <td>1598</td>\n",
       "      <td>2ND AVENUE</td>\n",
       "      <td>1545</td>\n",
       "      <td>49</td>\n",
       "      <td>A2</td>\n",
       "      <td>01/29/2003</td>\n",
       "      <td>$65000.00</td>\n",
       "      <td>0</td>\n",
       "      <td>NaN</td>\n",
       "      <td>NaN</td>\n",
       "      <td>0</td>\n",
       "      <td>C1-9</td>\n",
       "    </tr>\n",
       "    <tr>\n",
       "      <th>1</th>\n",
       "      <td>140922893</td>\n",
       "      <td>MANHATTAN</td>\n",
       "      <td>160</td>\n",
       "      <td>E 89 ST</td>\n",
       "      <td>1517</td>\n",
       "      <td>43</td>\n",
       "      <td>A2</td>\n",
       "      <td>07/14/2020</td>\n",
       "      <td>$85000.00</td>\n",
       "      <td>0</td>\n",
       "      <td>NaN</td>\n",
       "      <td>NaN</td>\n",
       "      <td>0</td>\n",
       "      <td>R8B</td>\n",
       "    </tr>\n",
       "    <tr>\n",
       "      <th>2</th>\n",
       "      <td>301773579</td>\n",
       "      <td>BROOKLYN</td>\n",
       "      <td>65</td>\n",
       "      <td>GATES AVENUE</td>\n",
       "      <td>1962</td>\n",
       "      <td>86</td>\n",
       "      <td>A1</td>\n",
       "      <td>05/23/2007</td>\n",
       "      <td>$60000.00</td>\n",
       "      <td>0</td>\n",
       "      <td>NaN</td>\n",
       "      <td>NaN</td>\n",
       "      <td>0</td>\n",
       "      <td>R6</td>\n",
       "    </tr>\n",
       "    <tr>\n",
       "      <th>3</th>\n",
       "      <td>301976057</td>\n",
       "      <td>BROOKLYN</td>\n",
       "      <td>1401</td>\n",
       "      <td>OCEAN AVENUE</td>\n",
       "      <td>7584</td>\n",
       "      <td>35</td>\n",
       "      <td>A2</td>\n",
       "      <td>02/28/2006</td>\n",
       "      <td>$75000.00</td>\n",
       "      <td>0</td>\n",
       "      <td>NaN</td>\n",
       "      <td>NaN</td>\n",
       "      <td>0</td>\n",
       "      <td>R8B</td>\n",
       "    </tr>\n",
       "    <tr>\n",
       "      <th>4</th>\n",
       "      <td>301989276</td>\n",
       "      <td>BROOKLYN</td>\n",
       "      <td>154</td>\n",
       "      <td>NOBLE STREET</td>\n",
       "      <td>2573</td>\n",
       "      <td>10</td>\n",
       "      <td>A1</td>\n",
       "      <td>09/29/2006</td>\n",
       "      <td>$40000.00</td>\n",
       "      <td>0</td>\n",
       "      <td>NaN</td>\n",
       "      <td>NaN</td>\n",
       "      <td>0</td>\n",
       "      <td>C4-3</td>\n",
       "    </tr>\n",
       "  </tbody>\n",
       "</table>\n",
       "</div>"
      ],
      "text/plain": [
       "       Job #    Borough House #   Street Name  Block  Lot Job Type  \\\n",
       "0  123768976  MANHATTAN    1598    2ND AVENUE   1545   49       A2   \n",
       "1  140922893  MANHATTAN     160       E 89 ST   1517   43       A2   \n",
       "2  301773579   BROOKLYN      65  GATES AVENUE   1962   86       A1   \n",
       "3  301976057   BROOKLYN    1401  OCEAN AVENUE   7584   35       A2   \n",
       "4  301989276   BROOKLYN     154  NOBLE STREET   2573   10       A1   \n",
       "\n",
       "  Fully Permitted Initial Cost  Proposed Zoning Sqft Horizontal Enlrgmt  \\\n",
       "0      01/29/2003    $65000.00                     0                NaN   \n",
       "1      07/14/2020    $85000.00                     0                NaN   \n",
       "2      05/23/2007    $60000.00                     0                NaN   \n",
       "3      02/28/2006    $75000.00                     0                NaN   \n",
       "4      09/29/2006    $40000.00                     0                NaN   \n",
       "\n",
       "  Vertical Enlrgmt  Enlargement SQ Footage Zoning Dist1  \n",
       "0              NaN                       0         C1-9  \n",
       "1              NaN                       0          R8B  \n",
       "2              NaN                       0           R6  \n",
       "3              NaN                       0          R8B  \n",
       "4              NaN                       0         C4-3  "
      ]
     },
     "execution_count": 28,
     "metadata": {},
     "output_type": "execute_result"
    }
   ],
   "source": [
    "#since highly correalted with other \n",
    "columns_to_drop = ['Bin #','Community - Board']\n",
    "# Check if the columns exist in the DataFrame before dropping\n",
    "columns_to_drop_existing = [col for col in columns_to_drop if col in df.columns]\n",
    "\n",
    "df = df.drop(columns=columns_to_drop_existing, errors='ignore')\n",
    "df.head()"
   ]
  },
  {
   "cell_type": "code",
   "execution_count": 29,
   "id": "bef94bd5",
   "metadata": {},
   "outputs": [],
   "source": [
    "# Filter rows where 'Horizontal Enlrgmt' and 'Vertical Enlrgmt' are not null\n",
    "filtered_data1 = df[df['Horizontal Enlrgmt'].notnull() | df['Vertical Enlrgmt'].notnull()]"
   ]
  },
  {
   "cell_type": "code",
   "execution_count": 30,
   "id": "89aaeec4",
   "metadata": {},
   "outputs": [
    {
     "data": {
      "text/plain": [
       "263"
      ]
     },
     "execution_count": 30,
     "metadata": {},
     "output_type": "execute_result"
    }
   ],
   "source": [
    "len(filtered_data1)"
   ]
  },
  {
   "cell_type": "code",
   "execution_count": 31,
   "id": "b4814b21",
   "metadata": {},
   "outputs": [
    {
     "data": {
      "text/html": [
       "<div>\n",
       "<style scoped>\n",
       "    .dataframe tbody tr th:only-of-type {\n",
       "        vertical-align: middle;\n",
       "    }\n",
       "\n",
       "    .dataframe tbody tr th {\n",
       "        vertical-align: top;\n",
       "    }\n",
       "\n",
       "    .dataframe thead th {\n",
       "        text-align: right;\n",
       "    }\n",
       "</style>\n",
       "<table border=\"1\" class=\"dataframe\">\n",
       "  <thead>\n",
       "    <tr style=\"text-align: right;\">\n",
       "      <th></th>\n",
       "      <th>Job #</th>\n",
       "      <th>Borough</th>\n",
       "      <th>House #</th>\n",
       "      <th>Street Name</th>\n",
       "      <th>Block</th>\n",
       "      <th>Lot</th>\n",
       "      <th>Job Type</th>\n",
       "      <th>Fully Permitted</th>\n",
       "      <th>Initial Cost</th>\n",
       "      <th>Proposed Zoning Sqft</th>\n",
       "      <th>Horizontal Enlrgmt</th>\n",
       "      <th>Vertical Enlrgmt</th>\n",
       "      <th>Enlargement SQ Footage</th>\n",
       "      <th>Zoning Dist1</th>\n",
       "    </tr>\n",
       "  </thead>\n",
       "  <tbody>\n",
       "    <tr>\n",
       "      <th>45</th>\n",
       "      <td>302138247</td>\n",
       "      <td>BROOKLYN</td>\n",
       "      <td>146</td>\n",
       "      <td>SACKETT STREET</td>\n",
       "      <td>336</td>\n",
       "      <td>16</td>\n",
       "      <td>A1</td>\n",
       "      <td>01/29/2003</td>\n",
       "      <td>$60000.00</td>\n",
       "      <td>0</td>\n",
       "      <td>NaN</td>\n",
       "      <td>Y</td>\n",
       "      <td>1570</td>\n",
       "      <td>R6</td>\n",
       "    </tr>\n",
       "    <tr>\n",
       "      <th>61</th>\n",
       "      <td>302175982</td>\n",
       "      <td>BROOKLYN</td>\n",
       "      <td>7901</td>\n",
       "      <td>4 AVENUE</td>\n",
       "      <td>5980</td>\n",
       "      <td>1</td>\n",
       "      <td>A1</td>\n",
       "      <td>02/12/2010</td>\n",
       "      <td>$80000.00</td>\n",
       "      <td>0</td>\n",
       "      <td>Y</td>\n",
       "      <td>NaN</td>\n",
       "      <td>1080</td>\n",
       "      <td>R7-1</td>\n",
       "    </tr>\n",
       "    <tr>\n",
       "      <th>67</th>\n",
       "      <td>302187700</td>\n",
       "      <td>BROOKLYN</td>\n",
       "      <td>6014</td>\n",
       "      <td>7 AVENUE</td>\n",
       "      <td>5784</td>\n",
       "      <td>43</td>\n",
       "      <td>A1</td>\n",
       "      <td>01/29/2003</td>\n",
       "      <td>$80000.00</td>\n",
       "      <td>0</td>\n",
       "      <td>Y</td>\n",
       "      <td>Y</td>\n",
       "      <td>462</td>\n",
       "      <td>C1-1</td>\n",
       "    </tr>\n",
       "    <tr>\n",
       "      <th>122</th>\n",
       "      <td>302271912</td>\n",
       "      <td>BROOKLYN</td>\n",
       "      <td>247</td>\n",
       "      <td>VAN BRUNT STREET</td>\n",
       "      <td>522</td>\n",
       "      <td>3</td>\n",
       "      <td>A1</td>\n",
       "      <td>04/22/2008</td>\n",
       "      <td>$50000.00</td>\n",
       "      <td>0</td>\n",
       "      <td>Y</td>\n",
       "      <td>Y</td>\n",
       "      <td>2250</td>\n",
       "      <td>M1-1</td>\n",
       "    </tr>\n",
       "    <tr>\n",
       "      <th>130</th>\n",
       "      <td>302282278</td>\n",
       "      <td>BROOKLYN</td>\n",
       "      <td>1609</td>\n",
       "      <td>MERMAID AVENUE</td>\n",
       "      <td>7021</td>\n",
       "      <td>46</td>\n",
       "      <td>A1</td>\n",
       "      <td>07/02/2007</td>\n",
       "      <td>$60000.00</td>\n",
       "      <td>4159</td>\n",
       "      <td>Y</td>\n",
       "      <td>Y</td>\n",
       "      <td>440</td>\n",
       "      <td>R6</td>\n",
       "    </tr>\n",
       "    <tr>\n",
       "      <th>...</th>\n",
       "      <td>...</td>\n",
       "      <td>...</td>\n",
       "      <td>...</td>\n",
       "      <td>...</td>\n",
       "      <td>...</td>\n",
       "      <td>...</td>\n",
       "      <td>...</td>\n",
       "      <td>...</td>\n",
       "      <td>...</td>\n",
       "      <td>...</td>\n",
       "      <td>...</td>\n",
       "      <td>...</td>\n",
       "      <td>...</td>\n",
       "      <td>...</td>\n",
       "    </tr>\n",
       "    <tr>\n",
       "      <th>19195</th>\n",
       "      <td>104828572</td>\n",
       "      <td>MANHATTAN</td>\n",
       "      <td>116</td>\n",
       "      <td>WEST   75 STREET</td>\n",
       "      <td>1146</td>\n",
       "      <td>42</td>\n",
       "      <td>A1</td>\n",
       "      <td>09/11/2008</td>\n",
       "      <td>$40000.00</td>\n",
       "      <td>0</td>\n",
       "      <td>NaN</td>\n",
       "      <td>Y</td>\n",
       "      <td>810</td>\n",
       "      <td>R8B</td>\n",
       "    </tr>\n",
       "    <tr>\n",
       "      <th>19256</th>\n",
       "      <td>104892699</td>\n",
       "      <td>MANHATTAN</td>\n",
       "      <td>103</td>\n",
       "      <td>WEST   77 STREET</td>\n",
       "      <td>1149</td>\n",
       "      <td>30</td>\n",
       "      <td>A1</td>\n",
       "      <td>09/14/2009</td>\n",
       "      <td>$62000.00</td>\n",
       "      <td>0</td>\n",
       "      <td>Y</td>\n",
       "      <td>NaN</td>\n",
       "      <td>133</td>\n",
       "      <td>C1-8A</td>\n",
       "    </tr>\n",
       "    <tr>\n",
       "      <th>19371</th>\n",
       "      <td>110046165</td>\n",
       "      <td>MANHATTAN</td>\n",
       "      <td>133</td>\n",
       "      <td>EAST   15 STREET</td>\n",
       "      <td>871</td>\n",
       "      <td>30</td>\n",
       "      <td>A2</td>\n",
       "      <td>09/11/2008</td>\n",
       "      <td>$70000.00</td>\n",
       "      <td>0</td>\n",
       "      <td>NaN</td>\n",
       "      <td>Y</td>\n",
       "      <td>248</td>\n",
       "      <td>R8B</td>\n",
       "    </tr>\n",
       "    <tr>\n",
       "      <th>19384</th>\n",
       "      <td>110051318</td>\n",
       "      <td>MANHATTAN</td>\n",
       "      <td>108</td>\n",
       "      <td>WEST   69 STREET</td>\n",
       "      <td>1140</td>\n",
       "      <td>36</td>\n",
       "      <td>A1</td>\n",
       "      <td>04/23/2010</td>\n",
       "      <td>$40000.00</td>\n",
       "      <td>0</td>\n",
       "      <td>NaN</td>\n",
       "      <td>Y</td>\n",
       "      <td>264</td>\n",
       "      <td>C1-8</td>\n",
       "    </tr>\n",
       "    <tr>\n",
       "      <th>19576</th>\n",
       "      <td>103065344</td>\n",
       "      <td>MANHATTAN</td>\n",
       "      <td>418</td>\n",
       "      <td>EAST   77 STREET</td>\n",
       "      <td>1471</td>\n",
       "      <td>38</td>\n",
       "      <td>A1</td>\n",
       "      <td>06/08/2004</td>\n",
       "      <td>$50000.00</td>\n",
       "      <td>0</td>\n",
       "      <td>NaN</td>\n",
       "      <td>Y</td>\n",
       "      <td>2083</td>\n",
       "      <td>R8B</td>\n",
       "    </tr>\n",
       "  </tbody>\n",
       "</table>\n",
       "<p>263 rows × 14 columns</p>\n",
       "</div>"
      ],
      "text/plain": [
       "           Job #    Borough House #       Street Name  Block  Lot Job Type  \\\n",
       "45     302138247   BROOKLYN     146    SACKETT STREET    336   16       A1   \n",
       "61     302175982   BROOKLYN    7901          4 AVENUE   5980    1       A1   \n",
       "67     302187700   BROOKLYN    6014          7 AVENUE   5784   43       A1   \n",
       "122    302271912   BROOKLYN     247  VAN BRUNT STREET    522    3       A1   \n",
       "130    302282278   BROOKLYN    1609    MERMAID AVENUE   7021   46       A1   \n",
       "...          ...        ...     ...               ...    ...  ...      ...   \n",
       "19195  104828572  MANHATTAN     116  WEST   75 STREET   1146   42       A1   \n",
       "19256  104892699  MANHATTAN     103  WEST   77 STREET   1149   30       A1   \n",
       "19371  110046165  MANHATTAN     133  EAST   15 STREET    871   30       A2   \n",
       "19384  110051318  MANHATTAN     108  WEST   69 STREET   1140   36       A1   \n",
       "19576  103065344  MANHATTAN     418  EAST   77 STREET   1471   38       A1   \n",
       "\n",
       "      Fully Permitted Initial Cost  Proposed Zoning Sqft Horizontal Enlrgmt  \\\n",
       "45         01/29/2003    $60000.00                     0                NaN   \n",
       "61         02/12/2010    $80000.00                     0                  Y   \n",
       "67         01/29/2003    $80000.00                     0                  Y   \n",
       "122        04/22/2008    $50000.00                     0                  Y   \n",
       "130        07/02/2007    $60000.00                  4159                  Y   \n",
       "...               ...          ...                   ...                ...   \n",
       "19195      09/11/2008    $40000.00                     0                NaN   \n",
       "19256      09/14/2009    $62000.00                     0                  Y   \n",
       "19371      09/11/2008    $70000.00                     0                NaN   \n",
       "19384      04/23/2010    $40000.00                     0                NaN   \n",
       "19576      06/08/2004    $50000.00                     0                NaN   \n",
       "\n",
       "      Vertical Enlrgmt  Enlargement SQ Footage Zoning Dist1  \n",
       "45                   Y                    1570           R6  \n",
       "61                 NaN                    1080         R7-1  \n",
       "67                   Y                     462         C1-1  \n",
       "122                  Y                    2250         M1-1  \n",
       "130                  Y                     440           R6  \n",
       "...                ...                     ...          ...  \n",
       "19195                Y                     810          R8B  \n",
       "19256              NaN                     133        C1-8A  \n",
       "19371                Y                     248          R8B  \n",
       "19384                Y                     264         C1-8  \n",
       "19576                Y                    2083          R8B  \n",
       "\n",
       "[263 rows x 14 columns]"
      ]
     },
     "execution_count": 31,
     "metadata": {},
     "output_type": "execute_result"
    }
   ],
   "source": [
    "filtered_data1"
   ]
  },
  {
   "cell_type": "code",
   "execution_count": 32,
   "id": "b651fb64",
   "metadata": {},
   "outputs": [],
   "source": [
    "# Filter rows where 'Horizontal Enlrgmt' and 'Vertical Enlrgmt' are null\n",
    "filtered_data2 = df[df['Horizontal Enlrgmt'].isnull() & df['Vertical Enlrgmt'].isnull()]"
   ]
  },
  {
   "cell_type": "code",
   "execution_count": 33,
   "id": "24150f6c",
   "metadata": {},
   "outputs": [
    {
     "data": {
      "text/plain": [
       "13246"
      ]
     },
     "execution_count": 33,
     "metadata": {},
     "output_type": "execute_result"
    }
   ],
   "source": [
    "len(filtered_data2)"
   ]
  },
  {
   "cell_type": "code",
   "execution_count": 34,
   "id": "127d89da",
   "metadata": {},
   "outputs": [
    {
     "data": {
      "text/html": [
       "<div>\n",
       "<style scoped>\n",
       "    .dataframe tbody tr th:only-of-type {\n",
       "        vertical-align: middle;\n",
       "    }\n",
       "\n",
       "    .dataframe tbody tr th {\n",
       "        vertical-align: top;\n",
       "    }\n",
       "\n",
       "    .dataframe thead th {\n",
       "        text-align: right;\n",
       "    }\n",
       "</style>\n",
       "<table border=\"1\" class=\"dataframe\">\n",
       "  <thead>\n",
       "    <tr style=\"text-align: right;\">\n",
       "      <th></th>\n",
       "      <th>Job #</th>\n",
       "      <th>Borough</th>\n",
       "      <th>House #</th>\n",
       "      <th>Street Name</th>\n",
       "      <th>Block</th>\n",
       "      <th>Lot</th>\n",
       "      <th>Job Type</th>\n",
       "      <th>Fully Permitted</th>\n",
       "      <th>Initial Cost</th>\n",
       "      <th>Proposed Zoning Sqft</th>\n",
       "      <th>Horizontal Enlrgmt</th>\n",
       "      <th>Vertical Enlrgmt</th>\n",
       "      <th>Enlargement SQ Footage</th>\n",
       "      <th>Zoning Dist1</th>\n",
       "    </tr>\n",
       "  </thead>\n",
       "  <tbody>\n",
       "    <tr>\n",
       "      <th>0</th>\n",
       "      <td>123768976</td>\n",
       "      <td>MANHATTAN</td>\n",
       "      <td>1598</td>\n",
       "      <td>2ND AVENUE</td>\n",
       "      <td>1545</td>\n",
       "      <td>49</td>\n",
       "      <td>A2</td>\n",
       "      <td>01/29/2003</td>\n",
       "      <td>$65000.00</td>\n",
       "      <td>0</td>\n",
       "      <td>NaN</td>\n",
       "      <td>NaN</td>\n",
       "      <td>0</td>\n",
       "      <td>C1-9</td>\n",
       "    </tr>\n",
       "    <tr>\n",
       "      <th>1</th>\n",
       "      <td>140922893</td>\n",
       "      <td>MANHATTAN</td>\n",
       "      <td>160</td>\n",
       "      <td>E 89 ST</td>\n",
       "      <td>1517</td>\n",
       "      <td>43</td>\n",
       "      <td>A2</td>\n",
       "      <td>07/14/2020</td>\n",
       "      <td>$85000.00</td>\n",
       "      <td>0</td>\n",
       "      <td>NaN</td>\n",
       "      <td>NaN</td>\n",
       "      <td>0</td>\n",
       "      <td>R8B</td>\n",
       "    </tr>\n",
       "    <tr>\n",
       "      <th>2</th>\n",
       "      <td>301773579</td>\n",
       "      <td>BROOKLYN</td>\n",
       "      <td>65</td>\n",
       "      <td>GATES AVENUE</td>\n",
       "      <td>1962</td>\n",
       "      <td>86</td>\n",
       "      <td>A1</td>\n",
       "      <td>05/23/2007</td>\n",
       "      <td>$60000.00</td>\n",
       "      <td>0</td>\n",
       "      <td>NaN</td>\n",
       "      <td>NaN</td>\n",
       "      <td>0</td>\n",
       "      <td>R6</td>\n",
       "    </tr>\n",
       "    <tr>\n",
       "      <th>3</th>\n",
       "      <td>301976057</td>\n",
       "      <td>BROOKLYN</td>\n",
       "      <td>1401</td>\n",
       "      <td>OCEAN AVENUE</td>\n",
       "      <td>7584</td>\n",
       "      <td>35</td>\n",
       "      <td>A2</td>\n",
       "      <td>02/28/2006</td>\n",
       "      <td>$75000.00</td>\n",
       "      <td>0</td>\n",
       "      <td>NaN</td>\n",
       "      <td>NaN</td>\n",
       "      <td>0</td>\n",
       "      <td>R8B</td>\n",
       "    </tr>\n",
       "    <tr>\n",
       "      <th>4</th>\n",
       "      <td>301989276</td>\n",
       "      <td>BROOKLYN</td>\n",
       "      <td>154</td>\n",
       "      <td>NOBLE STREET</td>\n",
       "      <td>2573</td>\n",
       "      <td>10</td>\n",
       "      <td>A1</td>\n",
       "      <td>09/29/2006</td>\n",
       "      <td>$40000.00</td>\n",
       "      <td>0</td>\n",
       "      <td>NaN</td>\n",
       "      <td>NaN</td>\n",
       "      <td>0</td>\n",
       "      <td>C4-3</td>\n",
       "    </tr>\n",
       "    <tr>\n",
       "      <th>...</th>\n",
       "      <td>...</td>\n",
       "      <td>...</td>\n",
       "      <td>...</td>\n",
       "      <td>...</td>\n",
       "      <td>...</td>\n",
       "      <td>...</td>\n",
       "      <td>...</td>\n",
       "      <td>...</td>\n",
       "      <td>...</td>\n",
       "      <td>...</td>\n",
       "      <td>...</td>\n",
       "      <td>...</td>\n",
       "      <td>...</td>\n",
       "      <td>...</td>\n",
       "    </tr>\n",
       "    <tr>\n",
       "      <th>19605</th>\n",
       "      <td>123847409</td>\n",
       "      <td>MANHATTAN</td>\n",
       "      <td>225</td>\n",
       "      <td>CENTRAL PARK WEST</td>\n",
       "      <td>1196</td>\n",
       "      <td>29</td>\n",
       "      <td>A2</td>\n",
       "      <td>06/11/2020</td>\n",
       "      <td>$60000.00</td>\n",
       "      <td>0</td>\n",
       "      <td>NaN</td>\n",
       "      <td>NaN</td>\n",
       "      <td>0</td>\n",
       "      <td>R10A</td>\n",
       "    </tr>\n",
       "    <tr>\n",
       "      <th>19607</th>\n",
       "      <td>141021631</td>\n",
       "      <td>MANHATTAN</td>\n",
       "      <td>51</td>\n",
       "      <td>5TH AVENUE</td>\n",
       "      <td>569</td>\n",
       "      <td>5</td>\n",
       "      <td>A2</td>\n",
       "      <td>12/09/2022</td>\n",
       "      <td>$40000.00</td>\n",
       "      <td>0</td>\n",
       "      <td>NaN</td>\n",
       "      <td>NaN</td>\n",
       "      <td>0</td>\n",
       "      <td>R10</td>\n",
       "    </tr>\n",
       "    <tr>\n",
       "      <th>19609</th>\n",
       "      <td>121090112</td>\n",
       "      <td>MANHATTAN</td>\n",
       "      <td>110</td>\n",
       "      <td>DUANE STREET</td>\n",
       "      <td>150</td>\n",
       "      <td>22</td>\n",
       "      <td>A2</td>\n",
       "      <td>07/17/2012</td>\n",
       "      <td>$40000.00</td>\n",
       "      <td>0</td>\n",
       "      <td>NaN</td>\n",
       "      <td>NaN</td>\n",
       "      <td>0</td>\n",
       "      <td>C6-2A</td>\n",
       "    </tr>\n",
       "    <tr>\n",
       "      <th>19610</th>\n",
       "      <td>102937342</td>\n",
       "      <td>MANHATTAN</td>\n",
       "      <td>166</td>\n",
       "      <td>BANK STREET</td>\n",
       "      <td>638</td>\n",
       "      <td>4</td>\n",
       "      <td>A2</td>\n",
       "      <td>02/07/2001</td>\n",
       "      <td>$80000.00</td>\n",
       "      <td>0</td>\n",
       "      <td>NaN</td>\n",
       "      <td>NaN</td>\n",
       "      <td>0</td>\n",
       "      <td>C6-2</td>\n",
       "    </tr>\n",
       "    <tr>\n",
       "      <th>19612</th>\n",
       "      <td>301429158</td>\n",
       "      <td>BROOKLYN</td>\n",
       "      <td>802</td>\n",
       "      <td>HOWARD AVENUE</td>\n",
       "      <td>3565</td>\n",
       "      <td>42</td>\n",
       "      <td>A2</td>\n",
       "      <td>01/29/2003</td>\n",
       "      <td>$60000.00</td>\n",
       "      <td>0</td>\n",
       "      <td>NaN</td>\n",
       "      <td>NaN</td>\n",
       "      <td>0</td>\n",
       "      <td>R6</td>\n",
       "    </tr>\n",
       "  </tbody>\n",
       "</table>\n",
       "<p>13246 rows × 14 columns</p>\n",
       "</div>"
      ],
      "text/plain": [
       "           Job #    Borough House #        Street Name  Block  Lot Job Type  \\\n",
       "0      123768976  MANHATTAN    1598         2ND AVENUE   1545   49       A2   \n",
       "1      140922893  MANHATTAN     160            E 89 ST   1517   43       A2   \n",
       "2      301773579   BROOKLYN      65       GATES AVENUE   1962   86       A1   \n",
       "3      301976057   BROOKLYN    1401       OCEAN AVENUE   7584   35       A2   \n",
       "4      301989276   BROOKLYN     154       NOBLE STREET   2573   10       A1   \n",
       "...          ...        ...     ...                ...    ...  ...      ...   \n",
       "19605  123847409  MANHATTAN     225  CENTRAL PARK WEST   1196   29       A2   \n",
       "19607  141021631  MANHATTAN      51         5TH AVENUE    569    5       A2   \n",
       "19609  121090112  MANHATTAN     110       DUANE STREET    150   22       A2   \n",
       "19610  102937342  MANHATTAN     166        BANK STREET    638    4       A2   \n",
       "19612  301429158   BROOKLYN     802      HOWARD AVENUE   3565   42       A2   \n",
       "\n",
       "      Fully Permitted Initial Cost  Proposed Zoning Sqft Horizontal Enlrgmt  \\\n",
       "0          01/29/2003    $65000.00                     0                NaN   \n",
       "1          07/14/2020    $85000.00                     0                NaN   \n",
       "2          05/23/2007    $60000.00                     0                NaN   \n",
       "3          02/28/2006    $75000.00                     0                NaN   \n",
       "4          09/29/2006    $40000.00                     0                NaN   \n",
       "...               ...          ...                   ...                ...   \n",
       "19605      06/11/2020    $60000.00                     0                NaN   \n",
       "19607      12/09/2022    $40000.00                     0                NaN   \n",
       "19609      07/17/2012    $40000.00                     0                NaN   \n",
       "19610      02/07/2001    $80000.00                     0                NaN   \n",
       "19612      01/29/2003    $60000.00                     0                NaN   \n",
       "\n",
       "      Vertical Enlrgmt  Enlargement SQ Footage Zoning Dist1  \n",
       "0                  NaN                       0         C1-9  \n",
       "1                  NaN                       0          R8B  \n",
       "2                  NaN                       0           R6  \n",
       "3                  NaN                       0          R8B  \n",
       "4                  NaN                       0         C4-3  \n",
       "...                ...                     ...          ...  \n",
       "19605              NaN                       0         R10A  \n",
       "19607              NaN                       0          R10  \n",
       "19609              NaN                       0        C6-2A  \n",
       "19610              NaN                       0         C6-2  \n",
       "19612              NaN                       0           R6  \n",
       "\n",
       "[13246 rows x 14 columns]"
      ]
     },
     "execution_count": 34,
     "metadata": {},
     "output_type": "execute_result"
    }
   ],
   "source": [
    "filtered_data2"
   ]
  },
  {
   "cell_type": "code",
   "execution_count": 35,
   "id": "3d31011b",
   "metadata": {},
   "outputs": [
    {
     "data": {
      "text/plain": [
       "0    13246\n",
       "Name: Enlargement SQ Footage, dtype: int64"
      ]
     },
     "execution_count": 35,
     "metadata": {},
     "output_type": "execute_result"
    }
   ],
   "source": [
    "filtered_data2['Enlargement SQ Footage'].value_counts()"
   ]
  },
  {
   "cell_type": "code",
   "execution_count": 36,
   "id": "0e623b85",
   "metadata": {},
   "outputs": [
    {
     "data": {
      "text/plain": [
       "Y    106\n",
       "Name: Horizontal Enlrgmt, dtype: int64"
      ]
     },
     "execution_count": 36,
     "metadata": {},
     "output_type": "execute_result"
    }
   ],
   "source": [
    "df['Horizontal Enlrgmt'].value_counts()"
   ]
  },
  {
   "cell_type": "code",
   "execution_count": 37,
   "id": "581aabea",
   "metadata": {},
   "outputs": [
    {
     "data": {
      "text/plain": [
       "Y    174\n",
       "N      1\n",
       "Name: Vertical Enlrgmt, dtype: int64"
      ]
     },
     "execution_count": 37,
     "metadata": {},
     "output_type": "execute_result"
    }
   ],
   "source": [
    "df['Vertical Enlrgmt'].value_counts()"
   ]
  },
  {
   "cell_type": "code",
   "execution_count": 38,
   "id": "6ddacd8c",
   "metadata": {},
   "outputs": [],
   "source": [
    "# label text column values to numerical"
   ]
  },
  {
   "cell_type": "code",
   "execution_count": 39,
   "id": "9b869b18",
   "metadata": {},
   "outputs": [],
   "source": [
    "columns_to_transform = ['Horizontal Enlrgmt', 'Vertical Enlrgmt']"
   ]
  },
  {
   "cell_type": "code",
   "execution_count": 40,
   "id": "24f62b2e",
   "metadata": {},
   "outputs": [],
   "source": [
    "df[columns_to_transform] = df[columns_to_transform].replace({'Y': 1, 'N': 0}).fillna(0)"
   ]
  },
  {
   "cell_type": "code",
   "execution_count": null,
   "id": "da5088e1",
   "metadata": {},
   "outputs": [],
   "source": []
  },
  {
   "cell_type": "code",
   "execution_count": 41,
   "id": "45b20373",
   "metadata": {},
   "outputs": [],
   "source": [
    "# Remove the dollar sign and convert the 'Initial Cost' column to numeric\n",
    "df['Initial Cost'] = pd.to_numeric(df['Initial Cost'].str.replace('$', '', regex=False), errors='coerce')"
   ]
  },
  {
   "cell_type": "code",
   "execution_count": 42,
   "id": "7a83cef3",
   "metadata": {},
   "outputs": [
    {
     "data": {
      "text/plain": [
       "Job #                       int64\n",
       "Borough                    object\n",
       "House #                    object\n",
       "Street Name                object\n",
       "Block                       int64\n",
       "Lot                         int64\n",
       "Job Type                   object\n",
       "Fully Permitted            object\n",
       "Initial Cost              float64\n",
       "Proposed Zoning Sqft        int64\n",
       "Horizontal Enlrgmt        float64\n",
       "Vertical Enlrgmt          float64\n",
       "Enlargement SQ Footage      int64\n",
       "Zoning Dist1               object\n",
       "dtype: object"
      ]
     },
     "execution_count": 42,
     "metadata": {},
     "output_type": "execute_result"
    }
   ],
   "source": [
    "df.dtypes"
   ]
  },
  {
   "cell_type": "code",
   "execution_count": 43,
   "id": "cb2e3ccd",
   "metadata": {},
   "outputs": [],
   "source": [
    "df['House #'] = pd.to_numeric(df['House #'], errors='coerce')"
   ]
  },
  {
   "cell_type": "code",
   "execution_count": 44,
   "id": "0fdbfcfa",
   "metadata": {},
   "outputs": [
    {
     "data": {
      "text/plain": [
       "Job #                       0\n",
       "Borough                     0\n",
       "House #                   564\n",
       "Street Name                 0\n",
       "Block                       0\n",
       "Lot                         0\n",
       "Job Type                    0\n",
       "Fully Permitted             0\n",
       "Initial Cost                0\n",
       "Proposed Zoning Sqft        0\n",
       "Horizontal Enlrgmt          0\n",
       "Vertical Enlrgmt            0\n",
       "Enlargement SQ Footage      0\n",
       "Zoning Dist1                0\n",
       "dtype: int64"
      ]
     },
     "execution_count": 44,
     "metadata": {},
     "output_type": "execute_result"
    }
   ],
   "source": [
    "df.isnull().sum()"
   ]
  },
  {
   "cell_type": "code",
   "execution_count": 45,
   "id": "95974a70",
   "metadata": {},
   "outputs": [],
   "source": [
    "df['House #'].fillna(df['House #'].median(), inplace=True)"
   ]
  },
  {
   "cell_type": "code",
   "execution_count": 46,
   "id": "24d9d875",
   "metadata": {},
   "outputs": [
    {
     "data": {
      "text/plain": [
       "Job #                     0\n",
       "Borough                   0\n",
       "House #                   0\n",
       "Street Name               0\n",
       "Block                     0\n",
       "Lot                       0\n",
       "Job Type                  0\n",
       "Fully Permitted           0\n",
       "Initial Cost              0\n",
       "Proposed Zoning Sqft      0\n",
       "Horizontal Enlrgmt        0\n",
       "Vertical Enlrgmt          0\n",
       "Enlargement SQ Footage    0\n",
       "Zoning Dist1              0\n",
       "dtype: int64"
      ]
     },
     "execution_count": 46,
     "metadata": {},
     "output_type": "execute_result"
    }
   ],
   "source": [
    "df.isnull().sum()"
   ]
  },
  {
   "cell_type": "code",
   "execution_count": 47,
   "id": "1739f86f",
   "metadata": {},
   "outputs": [],
   "source": [
    "df['Fully Permitted'] = pd.to_datetime(df['Fully Permitted'], errors='coerce')"
   ]
  },
  {
   "cell_type": "code",
   "execution_count": 48,
   "id": "0d7a2b47",
   "metadata": {},
   "outputs": [],
   "source": [
    "df['year'] = df['Fully Permitted'].dt.year\n",
    "df['month'] = df['Fully Permitted'].dt.month\n",
    "df['day'] = df['Fully Permitted'].dt.day"
   ]
  },
  {
   "cell_type": "code",
   "execution_count": 49,
   "id": "83b6b486",
   "metadata": {},
   "outputs": [],
   "source": [
    "df.drop(columns=['Fully Permitted'], inplace=True)"
   ]
  },
  {
   "cell_type": "code",
   "execution_count": null,
   "id": "3e65930d",
   "metadata": {},
   "outputs": [],
   "source": []
  },
  {
   "cell_type": "code",
   "execution_count": 50,
   "id": "6441e976",
   "metadata": {},
   "outputs": [],
   "source": [
    "# Label the categorical column"
   ]
  },
  {
   "cell_type": "code",
   "execution_count": 51,
   "id": "56956cff",
   "metadata": {},
   "outputs": [],
   "source": [
    "df['Job Type'] = df['Job Type'].replace({'A2': 0, 'A1': 1, 'A3': 2})"
   ]
  },
  {
   "cell_type": "code",
   "execution_count": 52,
   "id": "3f583c2f",
   "metadata": {},
   "outputs": [],
   "source": [
    "df['Borough'] = df['Borough'].replace({'MANHATTAN': 0, 'BROOKLYN': 1, 'BRONX': 2, 'QUEENS': 3, 'STATEN ISLAND': 4})"
   ]
  },
  {
   "cell_type": "code",
   "execution_count": 53,
   "id": "67ab11c9",
   "metadata": {},
   "outputs": [],
   "source": [
    "from sklearn.preprocessing import LabelEncoder\n",
    "zoning_dist_encoder = LabelEncoder()\n",
    "street_name_encoder = LabelEncoder()\n",
    "df['Zoning Dist1'] = zoning_dist_encoder.fit_transform(df['Zoning Dist1'])\n",
    "df['Street Name'] = street_name_encoder.fit_transform(df['Street Name'])"
   ]
  },
  {
   "cell_type": "code",
   "execution_count": 54,
   "id": "39843a54",
   "metadata": {},
   "outputs": [
    {
     "data": {
      "text/html": [
       "<div>\n",
       "<style scoped>\n",
       "    .dataframe tbody tr th:only-of-type {\n",
       "        vertical-align: middle;\n",
       "    }\n",
       "\n",
       "    .dataframe tbody tr th {\n",
       "        vertical-align: top;\n",
       "    }\n",
       "\n",
       "    .dataframe thead th {\n",
       "        text-align: right;\n",
       "    }\n",
       "</style>\n",
       "<table border=\"1\" class=\"dataframe\">\n",
       "  <thead>\n",
       "    <tr style=\"text-align: right;\">\n",
       "      <th></th>\n",
       "      <th>Job #</th>\n",
       "      <th>Borough</th>\n",
       "      <th>House #</th>\n",
       "      <th>Street Name</th>\n",
       "      <th>Block</th>\n",
       "      <th>Lot</th>\n",
       "      <th>Job Type</th>\n",
       "      <th>Initial Cost</th>\n",
       "      <th>Proposed Zoning Sqft</th>\n",
       "      <th>Horizontal Enlrgmt</th>\n",
       "      <th>Vertical Enlrgmt</th>\n",
       "      <th>Enlargement SQ Footage</th>\n",
       "      <th>Zoning Dist1</th>\n",
       "      <th>year</th>\n",
       "      <th>month</th>\n",
       "      <th>day</th>\n",
       "    </tr>\n",
       "  </thead>\n",
       "  <tbody>\n",
       "    <tr>\n",
       "      <th>0</th>\n",
       "      <td>123768976</td>\n",
       "      <td>0</td>\n",
       "      <td>1598.0</td>\n",
       "      <td>121</td>\n",
       "      <td>1545</td>\n",
       "      <td>49</td>\n",
       "      <td>0</td>\n",
       "      <td>65000.0</td>\n",
       "      <td>0</td>\n",
       "      <td>0.0</td>\n",
       "      <td>0.0</td>\n",
       "      <td>0</td>\n",
       "      <td>13</td>\n",
       "      <td>2003</td>\n",
       "      <td>1</td>\n",
       "      <td>29</td>\n",
       "    </tr>\n",
       "    <tr>\n",
       "      <th>1</th>\n",
       "      <td>140922893</td>\n",
       "      <td>0</td>\n",
       "      <td>160.0</td>\n",
       "      <td>723</td>\n",
       "      <td>1517</td>\n",
       "      <td>43</td>\n",
       "      <td>0</td>\n",
       "      <td>85000.0</td>\n",
       "      <td>0</td>\n",
       "      <td>0.0</td>\n",
       "      <td>0.0</td>\n",
       "      <td>0</td>\n",
       "      <td>140</td>\n",
       "      <td>2020</td>\n",
       "      <td>7</td>\n",
       "      <td>14</td>\n",
       "    </tr>\n",
       "    <tr>\n",
       "      <th>2</th>\n",
       "      <td>301773579</td>\n",
       "      <td>1</td>\n",
       "      <td>65.0</td>\n",
       "      <td>1289</td>\n",
       "      <td>1962</td>\n",
       "      <td>86</td>\n",
       "      <td>1</td>\n",
       "      <td>60000.0</td>\n",
       "      <td>0</td>\n",
       "      <td>0.0</td>\n",
       "      <td>0.0</td>\n",
       "      <td>0</td>\n",
       "      <td>129</td>\n",
       "      <td>2007</td>\n",
       "      <td>5</td>\n",
       "      <td>23</td>\n",
       "    </tr>\n",
       "    <tr>\n",
       "      <th>3</th>\n",
       "      <td>301976057</td>\n",
       "      <td>1</td>\n",
       "      <td>1401.0</td>\n",
       "      <td>1597</td>\n",
       "      <td>7584</td>\n",
       "      <td>35</td>\n",
       "      <td>0</td>\n",
       "      <td>75000.0</td>\n",
       "      <td>0</td>\n",
       "      <td>0.0</td>\n",
       "      <td>0.0</td>\n",
       "      <td>0</td>\n",
       "      <td>140</td>\n",
       "      <td>2006</td>\n",
       "      <td>2</td>\n",
       "      <td>28</td>\n",
       "    </tr>\n",
       "    <tr>\n",
       "      <th>4</th>\n",
       "      <td>301989276</td>\n",
       "      <td>1</td>\n",
       "      <td>154.0</td>\n",
       "      <td>1576</td>\n",
       "      <td>2573</td>\n",
       "      <td>10</td>\n",
       "      <td>1</td>\n",
       "      <td>40000.0</td>\n",
       "      <td>0</td>\n",
       "      <td>0.0</td>\n",
       "      <td>0.0</td>\n",
       "      <td>0</td>\n",
       "      <td>30</td>\n",
       "      <td>2006</td>\n",
       "      <td>9</td>\n",
       "      <td>29</td>\n",
       "    </tr>\n",
       "  </tbody>\n",
       "</table>\n",
       "</div>"
      ],
      "text/plain": [
       "       Job #  Borough  House #  Street Name  Block  Lot  Job Type  \\\n",
       "0  123768976        0   1598.0          121   1545   49         0   \n",
       "1  140922893        0    160.0          723   1517   43         0   \n",
       "2  301773579        1     65.0         1289   1962   86         1   \n",
       "3  301976057        1   1401.0         1597   7584   35         0   \n",
       "4  301989276        1    154.0         1576   2573   10         1   \n",
       "\n",
       "   Initial Cost  Proposed Zoning Sqft  Horizontal Enlrgmt  Vertical Enlrgmt  \\\n",
       "0       65000.0                     0                 0.0               0.0   \n",
       "1       85000.0                     0                 0.0               0.0   \n",
       "2       60000.0                     0                 0.0               0.0   \n",
       "3       75000.0                     0                 0.0               0.0   \n",
       "4       40000.0                     0                 0.0               0.0   \n",
       "\n",
       "   Enlargement SQ Footage  Zoning Dist1  year  month  day  \n",
       "0                       0            13  2003      1   29  \n",
       "1                       0           140  2020      7   14  \n",
       "2                       0           129  2007      5   23  \n",
       "3                       0           140  2006      2   28  \n",
       "4                       0            30  2006      9   29  "
      ]
     },
     "execution_count": 54,
     "metadata": {},
     "output_type": "execute_result"
    }
   ],
   "source": [
    "df.head()"
   ]
  },
  {
   "cell_type": "code",
   "execution_count": 59,
   "id": "0dbec4a9",
   "metadata": {},
   "outputs": [],
   "source": [
    "numeric_columns = ['Job #', 'House #', 'Block', 'Lot', 'Initial Cost', 'Enlargement SQ Footage']"
   ]
  },
  {
   "cell_type": "code",
   "execution_count": 60,
   "id": "03aa9cfe",
   "metadata": {},
   "outputs": [
    {
     "data": {
      "image/png": "[encoded data removed]",
      "text/plain": [
       "<Figure size 1000x600 with 1 Axes>"
      ]
     },
     "metadata": {},
     "output_type": "display_data"
    },
    {
     "data": {
      "image/png": "[encoded data removed]",
      "text/plain": [
       "<Figure size 640x480 with 1 Axes>"
      ]
     },
     "metadata": {},
     "output_type": "display_data"
    },
    {
     "data": {
      "image/png": "[encoded data removed]",
      "text/plain": [
       "<Figure size 640x480 with 1 Axes>"
      ]
     },
     "metadata": {},
     "output_type": "display_data"
    },
    {
     "data": {
      "image/png": "[encoded data removed]",
      "text/plain": [
       "<Figure size 640x480 with 1 Axes>"
      ]
     },
     "metadata": {},
     "output_type": "display_data"
    },
    {
     "data": {
      "image/png": "[encoded data removed]",
      "text/plain": [
       "<Figure size 640x480 with 1 Axes>"
      ]
     },
     "metadata": {},
     "output_type": "display_data"
    },
    {
     "data": {
      "image/png": "[encoded data removed]",
      "text/plain": [
       "<Figure size 640x480 with 1 Axes>"
      ]
     },
     "metadata": {},
     "output_type": "display_data"
    }
   ],
   "source": [
    "# Create box plots for each numerical column\n",
    "plt.figure(figsize=(10, 6))\n",
    "for column in numeric_columns:\n",
    "    sns.boxplot(x=df[column])\n",
    "    plt.title(f'Box plot for {column}')\n",
    "    plt.show()"
   ]
  },
  {
   "cell_type": "code",
   "execution_count": null,
   "id": "cf0bf68e",
   "metadata": {
    "scrolled": true
   },
   "outputs": [],
   "source": []
  },
  {
   "cell_type": "code",
   "execution_count": 61,
   "id": "652750ca",
   "metadata": {},
   "outputs": [],
   "source": [
    "import numpy as np\n",
    "\n",
    "# function to impute outliers with the median\n",
    "def impute_outliers_with_median(column):\n",
    "    column_copy = column.copy()  # Create a copy of the column\n",
    "    median = column_copy.median()\n",
    "    std_dev = column_copy.std()\n",
    "    \n",
    "    # Identify outliers using a z-score threshold \n",
    "    z_scores = (column_copy - median) / std_dev\n",
    "    outliers = np.abs(z_scores) > 3\n",
    "    \n",
    "    # Replace outliers with the median\n",
    "    column_copy[outliers] = median\n",
    "    \n",
    "    return column_copy\n",
    "\n",
    "# Apply the function to each column\n",
    "df['Block'] = impute_outliers_with_median(df['Block'])\n",
    "df['Job #'] = impute_outliers_with_median(df['Job #'])\n",
    "df['Lot'] = impute_outliers_with_median(df['Lot'])\n",
    "df['Proposed Zoning Sqft'] = impute_outliers_with_median(df['Proposed Zoning Sqft'])\n",
    "df['House #'] = impute_outliers_with_median(df['House #'])\n",
    "df['Initial Cost'] = impute_outliers_with_median(df['Initial Cost'])\n",
    "df['Enlargement SQ Footage'] = impute_outliers_with_median(df['Enlargement SQ Footage'])\n"
   ]
  },
  {
   "cell_type": "code",
   "execution_count": 62,
   "id": "bc197d01",
   "metadata": {},
   "outputs": [
    {
     "data": {
      "image/png": "[encoded data removed]",
      "text/plain": [
       "<Figure size 1000x600 with 1 Axes>"
      ]
     },
     "metadata": {},
     "output_type": "display_data"
    },
    {
     "data": {
      "image/png": "[encoded data removed]",
      "text/plain": [
       "<Figure size 640x480 with 1 Axes>"
      ]
     },
     "metadata": {},
     "output_type": "display_data"
    },
    {
     "data": {
      "image/png": "[encoded data removed]",
      "text/plain": [
       "<Figure size 640x480 with 1 Axes>"
      ]
     },
     "metadata": {},
     "output_type": "display_data"
    },
    {
     "data": {
      "image/png": "[encoded data removed]",
      "text/plain": [
       "<Figure size 640x480 with 1 Axes>"
      ]
     },
     "metadata": {},
     "output_type": "display_data"
    },
    {
     "data": {
      "image/png": "[encoded data removed]",
      "text/plain": [
       "<Figure size 640x480 with 1 Axes>"
      ]
     },
     "metadata": {},
     "output_type": "display_data"
    },
    {
     "data": {
      "image/png": "[encoded data removed]",
      "text/plain": [
       "<Figure size 640x480 with 1 Axes>"
      ]
     },
     "metadata": {},
     "output_type": "display_data"
    }
   ],
   "source": [
    "# Create box plots for each numerical column\n",
    "plt.figure(figsize=(10, 6))\n",
    "for column in numeric_columns:\n",
    "    sns.boxplot(x=df[column])\n",
    "    plt.title(f'Box plot for {column}')\n",
    "    plt.show()"
   ]
  },
  {
   "cell_type": "code",
   "execution_count": 63,
   "id": "d75287ec",
   "metadata": {},
   "outputs": [],
   "source": [
    "# Model Building"
   ]
  },
  {
   "cell_type": "code",
   "execution_count": 75,
   "id": "7705b29c",
   "metadata": {},
   "outputs": [
    {
     "data": {
      "text/html": [
       "<div>\n",
       "<style scoped>\n",
       "    .dataframe tbody tr th:only-of-type {\n",
       "        vertical-align: middle;\n",
       "    }\n",
       "\n",
       "    .dataframe tbody tr th {\n",
       "        vertical-align: top;\n",
       "    }\n",
       "\n",
       "    .dataframe thead th {\n",
       "        text-align: right;\n",
       "    }\n",
       "</style>\n",
       "<table border=\"1\" class=\"dataframe\">\n",
       "  <thead>\n",
       "    <tr style=\"text-align: right;\">\n",
       "      <th></th>\n",
       "      <th>Job #</th>\n",
       "      <th>Borough</th>\n",
       "      <th>House #</th>\n",
       "      <th>Street Name</th>\n",
       "      <th>Block</th>\n",
       "      <th>Lot</th>\n",
       "      <th>Job Type</th>\n",
       "      <th>Proposed Zoning Sqft</th>\n",
       "      <th>Enlargement SQ Footage</th>\n",
       "      <th>Zoning Dist1</th>\n",
       "      <th>year</th>\n",
       "      <th>month</th>\n",
       "      <th>day</th>\n",
       "    </tr>\n",
       "  </thead>\n",
       "  <tbody>\n",
       "    <tr>\n",
       "      <th>0</th>\n",
       "      <td>123768976</td>\n",
       "      <td>0</td>\n",
       "      <td>1598.0</td>\n",
       "      <td>121</td>\n",
       "      <td>1545</td>\n",
       "      <td>49</td>\n",
       "      <td>0</td>\n",
       "      <td>0</td>\n",
       "      <td>0</td>\n",
       "      <td>13</td>\n",
       "      <td>2003</td>\n",
       "      <td>1</td>\n",
       "      <td>29</td>\n",
       "    </tr>\n",
       "    <tr>\n",
       "      <th>1</th>\n",
       "      <td>140922893</td>\n",
       "      <td>0</td>\n",
       "      <td>160.0</td>\n",
       "      <td>723</td>\n",
       "      <td>1517</td>\n",
       "      <td>43</td>\n",
       "      <td>0</td>\n",
       "      <td>0</td>\n",
       "      <td>0</td>\n",
       "      <td>140</td>\n",
       "      <td>2020</td>\n",
       "      <td>7</td>\n",
       "      <td>14</td>\n",
       "    </tr>\n",
       "    <tr>\n",
       "      <th>2</th>\n",
       "      <td>301773579</td>\n",
       "      <td>1</td>\n",
       "      <td>65.0</td>\n",
       "      <td>1289</td>\n",
       "      <td>1962</td>\n",
       "      <td>86</td>\n",
       "      <td>1</td>\n",
       "      <td>0</td>\n",
       "      <td>0</td>\n",
       "      <td>129</td>\n",
       "      <td>2007</td>\n",
       "      <td>5</td>\n",
       "      <td>23</td>\n",
       "    </tr>\n",
       "    <tr>\n",
       "      <th>3</th>\n",
       "      <td>301976057</td>\n",
       "      <td>1</td>\n",
       "      <td>1401.0</td>\n",
       "      <td>1597</td>\n",
       "      <td>1245</td>\n",
       "      <td>35</td>\n",
       "      <td>0</td>\n",
       "      <td>0</td>\n",
       "      <td>0</td>\n",
       "      <td>140</td>\n",
       "      <td>2006</td>\n",
       "      <td>2</td>\n",
       "      <td>28</td>\n",
       "    </tr>\n",
       "    <tr>\n",
       "      <th>4</th>\n",
       "      <td>301989276</td>\n",
       "      <td>1</td>\n",
       "      <td>154.0</td>\n",
       "      <td>1576</td>\n",
       "      <td>2573</td>\n",
       "      <td>10</td>\n",
       "      <td>1</td>\n",
       "      <td>0</td>\n",
       "      <td>0</td>\n",
       "      <td>30</td>\n",
       "      <td>2006</td>\n",
       "      <td>9</td>\n",
       "      <td>29</td>\n",
       "    </tr>\n",
       "  </tbody>\n",
       "</table>\n",
       "</div>"
      ],
      "text/plain": [
       "       Job #  Borough  House #  Street Name  Block  Lot  Job Type  \\\n",
       "0  123768976        0   1598.0          121   1545   49         0   \n",
       "1  140922893        0    160.0          723   1517   43         0   \n",
       "2  301773579        1     65.0         1289   1962   86         1   \n",
       "3  301976057        1   1401.0         1597   1245   35         0   \n",
       "4  301989276        1    154.0         1576   2573   10         1   \n",
       "\n",
       "   Proposed Zoning Sqft  Enlargement SQ Footage  Zoning Dist1  year  month  \\\n",
       "0                     0                       0            13  2003      1   \n",
       "1                     0                       0           140  2020      7   \n",
       "2                     0                       0           129  2007      5   \n",
       "3                     0                       0           140  2006      2   \n",
       "4                     0                       0            30  2006      9   \n",
       "\n",
       "   day  \n",
       "0   29  \n",
       "1   14  \n",
       "2   23  \n",
       "3   28  \n",
       "4   29  "
      ]
     },
     "execution_count": 75,
     "metadata": {},
     "output_type": "execute_result"
    }
   ],
   "source": [
    "X = df.drop(columns=['Initial Cost', 'Horizontal Enlrgmt', 'Vertical Enlrgmt' ], axis=1)\n",
    "X.head()"
   ]
  },
  {
   "cell_type": "code",
   "execution_count": 76,
   "id": "eed4dd33",
   "metadata": {},
   "outputs": [
    {
     "data": {
      "text/plain": [
       "0    65000.0\n",
       "1    85000.0\n",
       "2    60000.0\n",
       "3    75000.0\n",
       "4    40000.0\n",
       "Name: Initial Cost, dtype: float64"
      ]
     },
     "execution_count": 76,
     "metadata": {},
     "output_type": "execute_result"
    }
   ],
   "source": [
    "y = df['Initial Cost']\n",
    "y.head()"
   ]
  },
  {
   "cell_type": "code",
   "execution_count": 77,
   "id": "eedba9d2",
   "metadata": {},
   "outputs": [],
   "source": [
    "# splitting the dataset\n",
    "from sklearn.model_selection import train_test_split\n",
    "X_train, X_test, y_train, y_test = train_test_split(X, y, test_size=0.2, random_state=42)"
   ]
  },
  {
   "cell_type": "code",
   "execution_count": 78,
   "id": "ec89628c",
   "metadata": {},
   "outputs": [
    {
     "name": "stdout",
     "output_type": "stream",
     "text": [
      "(10807, 13)\n",
      "(10807,)\n"
     ]
    }
   ],
   "source": [
    "print(X_train.shape)\n",
    "print(y_train.shape)"
   ]
  },
  {
   "cell_type": "code",
   "execution_count": 79,
   "id": "750e7680",
   "metadata": {},
   "outputs": [
    {
     "name": "stdout",
     "output_type": "stream",
     "text": [
      "(2702, 13)\n",
      "(2702,)\n"
     ]
    }
   ],
   "source": [
    "print(X_test.shape)\n",
    "print(y_test.shape)"
   ]
  },
  {
   "cell_type": "code",
   "execution_count": 80,
   "id": "46c429e8",
   "metadata": {},
   "outputs": [
    {
     "data": {
      "text/plain": [
       "Index(['Job #', 'Borough', 'House #', 'Street Name', 'Block', 'Lot',\n",
       "       'Job Type', 'Proposed Zoning Sqft', 'Enlargement SQ Footage',\n",
       "       'Zoning Dist1', 'year', 'month', 'day'],\n",
       "      dtype='object')"
      ]
     },
     "execution_count": 80,
     "metadata": {},
     "output_type": "execute_result"
    }
   ],
   "source": [
    "X.columns"
   ]
  },
  {
   "cell_type": "code",
   "execution_count": null,
   "id": "4a39c8c7",
   "metadata": {},
   "outputs": [],
   "source": []
  },
  {
   "cell_type": "code",
   "execution_count": 82,
   "id": "b0fb5b43",
   "metadata": {},
   "outputs": [
    {
     "name": "stdout",
     "output_type": "stream",
     "text": [
      "R squared of the Linear Regression on training set: 0.01029766916132202\n"
     ]
    }
   ],
   "source": [
    "from sklearn.linear_model import LinearRegression\n",
    "lin_reg = LinearRegression()\n",
    "lin_reg.fit(X=X_train, y=y_train)\n",
    "print('R squared of the Linear Regression on training set:', lin_reg.score(X_train, y_train))"
   ]
  },
  {
   "cell_type": "code",
   "execution_count": 83,
   "id": "5a2ce5cf",
   "metadata": {},
   "outputs": [],
   "source": [
    "y_pred = lin_reg.predict(X_test)"
   ]
  },
  {
   "cell_type": "code",
   "execution_count": 84,
   "id": "c0b15aa4",
   "metadata": {},
   "outputs": [
    {
     "name": "stdout",
     "output_type": "stream",
     "text": [
      "Mean Absolute Error of the Linear Regression on test set is : 11754.403833755287\n"
     ]
    }
   ],
   "source": [
    "from sklearn import metrics \n",
    "print('Mean Absolute Error of the Linear Regression on test set is :',metrics.mean_absolute_error(y_test, y_pred) )"
   ]
  },
  {
   "cell_type": "code",
   "execution_count": 87,
   "id": "a6eea4d4",
   "metadata": {},
   "outputs": [
    {
     "name": "stdout",
     "output_type": "stream",
     "text": [
      "Mean Squared Error of the Random Forest Regressor on test set is 188475170.76\n"
     ]
    }
   ],
   "source": [
    "from sklearn.metrics import mean_squared_error\n",
    "mse = mean_squared_error(y_test, y_pred)\n",
    "print('Mean Squared Error of the Random Forest Regressor on test set is {:.2f}'.format(mse))"
   ]
  },
  {
   "cell_type": "code",
   "execution_count": 88,
   "id": "03af9eeb",
   "metadata": {},
   "outputs": [
    {
     "name": "stdout",
     "output_type": "stream",
     "text": [
      "R squared of the Random Forest Regressor on training set: 86.74%\n",
      "Mean Absolute Error of the Random Forest Regressor on test set is 11066.72\n",
      "Mean Squared Error of the Random Forest Regressor on test set is 177849719.04\n"
     ]
    }
   ],
   "source": [
    "import sklearn.ensemble as se\n",
    "rf = se.RandomForestRegressor(n_estimators=100, random_state=42)\n",
    "rf.fit(X_train, y_train)\n",
    "print('R squared of the Random Forest Regressor on training set: {:.2%}'.format(rf.score(X_train, y_train)))\n",
    "y_pred2 = rf.predict(X_test)\n",
    "print('Mean Absolute Error of the Random Forest Regressor on test set is {:.2f}'.format(metrics.mean_absolute_error(y_test,y_pred2)))\n",
    "mse = mean_squared_error(y_test, y_pred2)\n",
    "print('Mean Squared Error of the Random Forest Regressor on test set is {:.2f}'.format(mse))"
   ]
  },
  {
   "cell_type": "code",
   "execution_count": 89,
   "id": "de10a81c",
   "metadata": {},
   "outputs": [
    {
     "data": {
      "image/png": "[encoded data removed]",
      "text/plain": [
       "<Figure size 1200x600 with 1 Axes>"
      ]
     },
     "metadata": {},
     "output_type": "display_data"
    }
   ],
   "source": [
    "import matplotlib.pyplot as plt\n",
    "# Get feature importances from the trained model\n",
    "feature_importances = rf.feature_importances_\n",
    "\n",
    "feature_names = X_train.columns\n",
    "\n",
    "# Create a DataFrame to display the feature importances\n",
    "feature_importance_df = pd.DataFrame({'Feature': feature_names, 'Importance': feature_importances})\n",
    "\n",
    "# Sort the DataFrame by importance in descending order\n",
    "feature_importance_df = feature_importance_df.sort_values(by='Importance', ascending=False)\n",
    "\n",
    "# Plotting the feature importances\n",
    "plt.figure(figsize=(12, 6))\n",
    "plt.bar(feature_importance_df['Feature'], feature_importance_df['Importance'])\n",
    "plt.xlabel('Feature')\n",
    "plt.ylabel('Importance')\n",
    "plt.title('Feature Importances from Random Forest Regressor')\n",
    "plt.xticks(rotation=45, ha='right')\n",
    "plt.show()"
   ]
  },
  {
   "cell_type": "code",
   "execution_count": 90,
   "id": "2f01b70c",
   "metadata": {},
   "outputs": [
    {
     "name": "stdout",
     "output_type": "stream",
     "text": [
      "[0.17575534 0.00293943 0.13806075 0.12550716 0.13608284 0.11742931\n",
      " 0.00589872 0.00432556 0.00381    0.07033291 0.0526951  0.07078191\n",
      " 0.09638096]\n"
     ]
    }
   ],
   "source": [
    "print(rf.feature_importances_)"
   ]
  },
  {
   "cell_type": "code",
   "execution_count": 91,
   "id": "79e1f5df",
   "metadata": {},
   "outputs": [
    {
     "name": "stdout",
     "output_type": "stream",
     "text": [
      "['Job #' 'Borough' 'House #' 'Street Name' 'Block' 'Lot' 'Job Type'\n",
      " 'Proposed Zoning Sqft' 'Enlargement SQ Footage' 'Zoning Dist1' 'year'\n",
      " 'month' 'day']\n"
     ]
    }
   ],
   "source": [
    "print(rf.feature_names_in_)"
   ]
  },
  {
   "cell_type": "code",
   "execution_count": 93,
   "id": "e6c15fd2",
   "metadata": {},
   "outputs": [
    {
     "name": "stdout",
     "output_type": "stream",
     "text": [
      "R squared of the Decision Tree Regressor on training set: 99.76%\n",
      "Mean Absolute Error of the Decision Tree Regressor on test set is 13971.13\n",
      "Mean Squared Error of the Random Forest Regressor on test set is 330474463.36\n"
     ]
    }
   ],
   "source": [
    "import sklearn.tree as st\n",
    "tree = st.DecisionTreeRegressor(random_state=42)\n",
    "tree.fit(X_train, y_train)\n",
    "print('R squared of the Decision Tree Regressor on training set: {:.2%}'.format(tree.score(X_train, y_train)))\n",
    "y_pred1 = tree.predict(X_test)\n",
    "print('Mean Absolute Error of the Decision Tree Regressor on test set is {:.2f}'.format(metrics.mean_absolute_error(y_test,y_pred1)))\n",
    "mse = mean_squared_error(y_test, y_pred1)\n",
    "print('Mean Squared Error of the Random Forest Regressor on test set is {:.2f}'.format(mse))\n"
   ]
  },
  {
   "cell_type": "code",
   "execution_count": 94,
   "id": "65e10f21",
   "metadata": {},
   "outputs": [
    {
     "data": {
      "image/png": "[encoded data removed]",
      "text/plain": [
       "<Figure size 1200x600 with 1 Axes>"
      ]
     },
     "metadata": {},
     "output_type": "display_data"
    }
   ],
   "source": [
    "import matplotlib.pyplot as plt\n",
    "# Get feature importances from the trained model\n",
    "feature_importances = tree.feature_importances_\n",
    "\n",
    "# Get the column names from your dataset\n",
    "feature_names = X_train.columns\n",
    "\n",
    "# Create a DataFrame to display the feature importances\n",
    "feature_importance_df = pd.DataFrame({'Feature': feature_names, 'Importance': feature_importances})\n",
    "\n",
    "# Sort the DataFrame by importance in descending order\n",
    "feature_importance_df = feature_importance_df.sort_values(by='Importance', ascending=False)\n",
    "\n",
    "# Plotting the feature importances\n",
    "plt.figure(figsize=(12, 6))\n",
    "plt.bar(feature_importance_df['Feature'], feature_importance_df['Importance'])\n",
    "plt.xlabel('Feature')\n",
    "plt.ylabel('Importance')\n",
    "plt.title('Feature Importances from Decision Tree Regressor')\n",
    "plt.xticks(rotation=45, ha='right')\n",
    "plt.show()\n"
   ]
  },
  {
   "cell_type": "code",
   "execution_count": null,
   "id": "15097f05",
   "metadata": {},
   "outputs": [],
   "source": []
  }
 ],
 "metadata": {
  "kernelspec": {
   "display_name": "Python 3 (ipykernel)",
   "language": "python",
   "name": "python3"
  },
  "language_info": {
   "codemirror_mode": {
    "name": "ipython",
    "version": 3
   },
   "file_extension": ".py",
   "mimetype": "text/x-python",
   "name": "python",
   "nbconvert_exporter": "python",
   "pygments_lexer": "ipython3",
   "version": "3.11.4"
  }
 },
 "nbformat": 4,
 "nbformat_minor": 5
}
